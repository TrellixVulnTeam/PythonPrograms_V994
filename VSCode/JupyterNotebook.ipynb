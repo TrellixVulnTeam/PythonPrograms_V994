{
    "cells": [
        {
            "cell_type": "code",
            "execution_count": 2,
            "source": [
                "import pyspark;\r\n",
                "from pyspark import *;\r\n",
                "from pyspark.sql import *;\r\n",
                "from pyspark.sql.types import *;\r\n",
                "from pyspark.sql import SparkSession;\r\n",
                "from pyspark.sql.functions import *;"
            ],
            "outputs": [],
            "metadata": {}
        },
        {
            "cell_type": "code",
            "execution_count": 3,
            "source": [
                "spark = SparkSession.builder.appName(\"Structured Data\").config(\"spark.driver.memory\",\"4g\").config(\"spark.executor.memory\",\"4g\").getOrCreate()\r\n"
            ],
            "outputs": [],
            "metadata": {}
        },
        {
            "cell_type": "code",
            "execution_count": 14,
            "source": [
                "dataFrame = spark.read.csv(\"C:\\\\Learning\\\\Python_Projects\\\\PySpark\\\\fire-incidents.csv\", inferSchema=True, header=True)"
            ],
            "outputs": [],
            "metadata": {}
        },
        {
            "cell_type": "code",
            "execution_count": 15,
            "source": [
                "dataFrame.printSchema()"
            ],
            "outputs": [
                {
                    "output_type": "stream",
                    "name": "stdout",
                    "text": [
                        "root\n",
                        " |-- IncidentNumber: string (nullable = true)\n",
                        " |-- ExposureNumber: string (nullable = true)\n",
                        " |-- ID: string (nullable = true)\n",
                        " |-- Address: string (nullable = true)\n",
                        " |-- IncidentDate: string (nullable = true)\n",
                        " |-- CallNumber: string (nullable = true)\n",
                        " |-- AlarmDtTm: string (nullable = true)\n",
                        " |-- ArrivalDtTm: string (nullable = true)\n",
                        " |-- CloseDtTm: string (nullable = true)\n",
                        " |-- City: string (nullable = true)\n",
                        " |-- ZIPCode: string (nullable = true)\n",
                        " |-- Battalion: string (nullable = true)\n",
                        " |-- StationArea: string (nullable = true)\n",
                        " |-- Box: string (nullable = true)\n",
                        " |-- SuppressionUnits: integer (nullable = true)\n",
                        " |-- SuppressionPersonnel: integer (nullable = true)\n",
                        " |-- EMSUnits: integer (nullable = true)\n",
                        " |-- EMSPersonnel: integer (nullable = true)\n",
                        " |-- OtherUnits: integer (nullable = true)\n",
                        " |-- OtherPersonnel: integer (nullable = true)\n",
                        " |-- FirstUnitOnScene: string (nullable = true)\n",
                        " |-- EstimatedPropertyLoss: integer (nullable = true)\n",
                        " |-- EstimatedContentsLoss: string (nullable = true)\n",
                        " |-- FireFatalities: string (nullable = true)\n",
                        " |-- FireInjuries: string (nullable = true)\n",
                        " |-- CivilianFatalities: integer (nullable = true)\n",
                        " |-- CivilianInjuries: integer (nullable = true)\n",
                        " |-- NumberofAlarms: integer (nullable = true)\n",
                        " |-- PrimarySituation: string (nullable = true)\n",
                        " |-- MutualAid: string (nullable = true)\n",
                        " |-- ActionTakenPrimary: string (nullable = true)\n",
                        " |-- ActionTakenSecondary: string (nullable = true)\n",
                        " |-- ActionTakenOther: string (nullable = true)\n",
                        " |-- DetectorAlertedOccupants: string (nullable = true)\n",
                        " |-- PropertyUse: string (nullable = true)\n",
                        " |-- AreaofFireOrigin: string (nullable = true)\n",
                        " |-- IgnitionCause: string (nullable = true)\n",
                        " |-- IgnitionFactorPrimary: string (nullable = true)\n",
                        " |-- IgnitionFactorSecondary: string (nullable = true)\n",
                        " |-- HeatSource: string (nullable = true)\n",
                        " |-- ItemFirstIgnited: string (nullable = true)\n",
                        " |-- HumanFactorsAssociatedwithIgnition: string (nullable = true)\n",
                        " |-- StructureType: string (nullable = true)\n",
                        " |-- StructureStatus: string (nullable = true)\n",
                        " |-- FloorofFireOrigin: integer (nullable = true)\n",
                        " |-- FireSpread: string (nullable = true)\n",
                        " |-- NoFlameSpead: string (nullable = true)\n",
                        " |-- Numberoffloorswithminimumdamage: integer (nullable = true)\n",
                        " |-- Numberoffloorswithsignificantdamage: integer (nullable = true)\n",
                        " |-- Numberoffloorswithheavydamage: integer (nullable = true)\n",
                        " |-- Numberoffloorswithextremedamage: integer (nullable = true)\n",
                        " |-- DetectorsPresent: string (nullable = true)\n",
                        " |-- DetectorType: string (nullable = true)\n",
                        " |-- DetectorOperation: string (nullable = true)\n",
                        " |-- DetectorEffectiveness: string (nullable = true)\n",
                        " |-- DetectorFailureReason: string (nullable = true)\n",
                        " |-- AutomaticExtinguishingSystemPresent: string (nullable = true)\n",
                        " |-- AutomaticExtinguishingSytemType: string (nullable = true)\n",
                        " |-- AutomaticExtinguishingSytemPerfomance: string (nullable = true)\n",
                        " |-- AutomaticExtinguishingSytemFailureReason: string (nullable = true)\n",
                        " |-- NumberofSprinklerHeadsOperating: integer (nullable = true)\n",
                        " |-- SupervisorDistrict: integer (nullable = true)\n",
                        " |-- AnalysisNeighborhood: string (nullable = true)\n",
                        " |-- point: string (nullable = true)\n",
                        " |-- NeighborhoodsOld: integer (nullable = true)\n",
                        " |-- ZipCodes: integer (nullable = true)\n",
                        " |-- FirePreventionDistricts: integer (nullable = true)\n",
                        " |-- PoliceDistricts: integer (nullable = true)\n",
                        " |-- SupervisorDistricts: integer (nullable = true)\n",
                        " |-- CivicCenterHarmReductionProjectBoundary: integer (nullable = true)\n",
                        " |-- 2017FixItZones: integer (nullable = true)\n",
                        " |-- HSOCZones: integer (nullable = true)\n",
                        " |-- CentralMarketTenderloinBoundary: integer (nullable = true)\n",
                        " |-- CentralMarketTenderloinBoundaryPolygonUpdated: integer (nullable = true)\n",
                        " |-- HSOCZonesasof20180605: integer (nullable = true)\n",
                        " |-- Neighborhoods: integer (nullable = true)\n",
                        " |-- SFFindNeighborhoods: integer (nullable = true)\n",
                        " |-- CurrentPoliceDistricts: integer (nullable = true)\n",
                        " |-- CurrentSupervisorDistricts: integer (nullable = true)\n",
                        " |-- AnalysisNeighborhoods: integer (nullable = true)\n",
                        "\n"
                    ]
                }
            ],
            "metadata": {}
        },
        {
            "cell_type": "code",
            "execution_count": 46,
            "source": [
                "dataFrame = dataFrame.withColumn(\"IncidentNumber\", col(\"IncidentNumber\").cast(IntegerType()))"
            ],
            "outputs": [],
            "metadata": {}
        },
        {
            "cell_type": "code",
            "execution_count": 47,
            "source": [
                "dataFrame.printSchema()"
            ],
            "outputs": [
                {
                    "output_type": "stream",
                    "name": "stdout",
                    "text": [
                        "root\n",
                        " |-- IncidentNumber: integer (nullable = true)\n",
                        " |-- ExposureNumber: string (nullable = true)\n",
                        " |-- ID: string (nullable = true)\n",
                        " |-- Address: string (nullable = true)\n",
                        " |-- IncidentDate: string (nullable = true)\n",
                        " |-- CallNumber: string (nullable = true)\n",
                        " |-- AlarmDtTm: string (nullable = true)\n",
                        " |-- ArrivalDtTm: string (nullable = true)\n",
                        " |-- CloseDtTm: string (nullable = true)\n",
                        " |-- City: string (nullable = true)\n",
                        " |-- ZIPCode: string (nullable = true)\n",
                        " |-- Battalion: string (nullable = true)\n",
                        " |-- StationArea: string (nullable = true)\n",
                        " |-- Box: string (nullable = true)\n",
                        " |-- SuppressionUnits: integer (nullable = true)\n",
                        " |-- SuppressionPersonnel: integer (nullable = true)\n",
                        " |-- EMSUnits: integer (nullable = true)\n",
                        " |-- EMSPersonnel: integer (nullable = true)\n",
                        " |-- OtherUnits: integer (nullable = true)\n",
                        " |-- OtherPersonnel: integer (nullable = true)\n",
                        " |-- FirstUnitOnScene: string (nullable = true)\n",
                        " |-- EstimatedPropertyLoss: integer (nullable = true)\n",
                        " |-- EstimatedContentsLoss: string (nullable = true)\n",
                        " |-- FireFatalities: string (nullable = true)\n",
                        " |-- FireInjuries: string (nullable = true)\n",
                        " |-- CivilianFatalities: integer (nullable = true)\n",
                        " |-- CivilianInjuries: integer (nullable = true)\n",
                        " |-- NumberofAlarms: integer (nullable = true)\n",
                        " |-- PrimarySituation: string (nullable = true)\n",
                        " |-- MutualAid: string (nullable = true)\n",
                        " |-- ActionTakenPrimary: string (nullable = true)\n",
                        " |-- ActionTakenSecondary: string (nullable = true)\n",
                        " |-- ActionTakenOther: string (nullable = true)\n",
                        " |-- DetectorAlertedOccupants: string (nullable = true)\n",
                        " |-- PropertyUse: string (nullable = true)\n",
                        " |-- AreaofFireOrigin: string (nullable = true)\n",
                        " |-- IgnitionCause: string (nullable = true)\n",
                        " |-- IgnitionFactorPrimary: string (nullable = true)\n",
                        " |-- IgnitionFactorSecondary: string (nullable = true)\n",
                        " |-- HeatSource: string (nullable = true)\n",
                        " |-- ItemFirstIgnited: string (nullable = true)\n",
                        " |-- HumanFactorsAssociatedwithIgnition: string (nullable = true)\n",
                        " |-- StructureType: string (nullable = true)\n",
                        " |-- StructureStatus: string (nullable = true)\n",
                        " |-- FloorofFireOrigin: integer (nullable = true)\n",
                        " |-- FireSpread: string (nullable = true)\n",
                        " |-- NoFlameSpead: string (nullable = true)\n",
                        " |-- Numberoffloorswithminimumdamage: integer (nullable = true)\n",
                        " |-- Numberoffloorswithsignificantdamage: integer (nullable = true)\n",
                        " |-- Numberoffloorswithheavydamage: integer (nullable = true)\n",
                        " |-- Numberoffloorswithextremedamage: integer (nullable = true)\n",
                        " |-- DetectorsPresent: string (nullable = true)\n",
                        " |-- DetectorType: string (nullable = true)\n",
                        " |-- DetectorOperation: string (nullable = true)\n",
                        " |-- DetectorEffectiveness: string (nullable = true)\n",
                        " |-- DetectorFailureReason: string (nullable = true)\n",
                        " |-- AutomaticExtinguishingSystemPresent: string (nullable = true)\n",
                        " |-- AutomaticExtinguishingSytemType: string (nullable = true)\n",
                        " |-- AutomaticExtinguishingSytemPerfomance: string (nullable = true)\n",
                        " |-- AutomaticExtinguishingSytemFailureReason: string (nullable = true)\n",
                        " |-- NumberofSprinklerHeadsOperating: integer (nullable = true)\n",
                        " |-- SupervisorDistrict: integer (nullable = true)\n",
                        " |-- AnalysisNeighborhood: string (nullable = true)\n",
                        " |-- point: string (nullable = true)\n",
                        " |-- NeighborhoodsOld: integer (nullable = true)\n",
                        " |-- ZipCodes: integer (nullable = true)\n",
                        " |-- FirePreventionDistricts: integer (nullable = true)\n",
                        " |-- PoliceDistricts: integer (nullable = true)\n",
                        " |-- SupervisorDistricts: integer (nullable = true)\n",
                        " |-- CivicCenterHarmReductionProjectBoundary: integer (nullable = true)\n",
                        " |-- 2017FixItZones: integer (nullable = true)\n",
                        " |-- HSOCZones: integer (nullable = true)\n",
                        " |-- CentralMarketTenderloinBoundary: integer (nullable = true)\n",
                        " |-- CentralMarketTenderloinBoundaryPolygonUpdated: integer (nullable = true)\n",
                        " |-- HSOCZonesasof20180605: integer (nullable = true)\n",
                        " |-- Neighborhoods: integer (nullable = true)\n",
                        " |-- SFFindNeighborhoods: integer (nullable = true)\n",
                        " |-- CurrentPoliceDistricts: integer (nullable = true)\n",
                        " |-- CurrentSupervisorDistricts: integer (nullable = true)\n",
                        " |-- AnalysisNeighborhoods: integer (nullable = true)\n",
                        "\n"
                    ]
                }
            ],
            "metadata": {}
        },
        {
            "cell_type": "code",
            "execution_count": 52,
            "source": [
                "dataFrame.select(\"IncidentNumber\",\"IncidentDate\").groupBy(\"IncidentDate\").sum(\"IncidentNumber\").show(5,False)"
            ],
            "outputs": [
                {
                    "output_type": "stream",
                    "name": "stdout",
                    "text": [
                        "+-----------------------+-------------------+\n",
                        "|IncidentDate           |sum(IncidentNumber)|\n",
                        "+-----------------------+-------------------+\n",
                        "|2020-03-22T00:00:00.000|1342381539         |\n",
                        "|2020-03-09T00:00:00.000|1622441483         |\n",
                        "|2019-10-23T00:00:00.000|1836254154         |\n",
                        "|2019-01-28T00:00:00.000|1692043947         |\n",
                        "|2018-12-17T00:00:00.000|1542535969         |\n",
                        "+-----------------------+-------------------+\n",
                        "only showing top 5 rows\n",
                        "\n"
                    ]
                }
            ],
            "metadata": {}
        },
        {
            "cell_type": "code",
            "execution_count": null,
            "source": [],
            "outputs": [],
            "metadata": {}
        }
    ],
    "metadata": {
        "orig_nbformat": 4,
        "language_info": {
            "name": "python",
            "version": "3.6.8",
            "mimetype": "text/x-python",
            "codemirror_mode": {
                "name": "ipython",
                "version": 3
            },
            "pygments_lexer": "ipython3",
            "nbconvert_exporter": "python",
            "file_extension": ".py"
        },
        "kernelspec": {
            "name": "python3",
            "display_name": "Python 3.6.8 64-bit"
        },
        "interpreter": {
            "hash": "3def7a75cbd089d88c34aac68d5616778c03150937f2bd94fd18ed19bc5177ac"
        }
    },
    "nbformat": 4,
    "nbformat_minor": 2
}